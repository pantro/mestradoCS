{
  "nbformat": 4,
  "nbformat_minor": 0,
  "metadata": {
    "colab": {
      "name": "Tarefa_3.ipynb",
      "provenance": [],
      "collapsed_sections": [],
      "toc_visible": true
    },
    "kernelspec": {
      "display_name": "Python 3",
      "name": "python3"
    },
    "language_info": {
      "name": "python"
    }
  },
  "cells": [
    {
      "cell_type": "markdown",
      "metadata": {
        "id": "B8EbWPO6jduA"
      },
      "source": [
        "\n",
        "**MO432A - Aprendizado supervisionado**\n",
        "\n",
        "**Equipe:**\n",
        "\n",
        "*   Maria Fernanda Tejada Begazo - RA 197488\n",
        "*   Jose Italo da Costa Silva - RA 265682\n",
        "*   Gian Franco Joel Condori Luna - RA 234826\n",
        "\n",
        "**Tarefa 03**\n",
        "\n",
        "A tarefa foi desenvolvida na linguagem python. Para isso utilizou-se notebooks jupyter no ambiente Google Colaboratory (Google Colab).\n"
      ]
    },
    {
      "cell_type": "code",
      "metadata": {
        "id": "yfigi5KLjrjH"
      },
      "source": [
        "#Primeiro faz-se os imports necessários:\n",
        "import numpy as np\n",
        "from numpy import linalg \n",
        "import matplotlib.pyplot as plt\n",
        "import pandas as pd\n",
        "import cv2\n",
        "import io\n",
        "\n",
        "import math\n",
        "from keras.models import Sequential\n",
        "from keras.layers import Dense\n",
        "from keras.layers import LSTM\n",
        "from sklearn.preprocessing import MinMaxScaler\n",
        "from sklearn.metrics import mean_squared_error\n",
        "from sklearn.metrics import r2_score #Accuracy pra valores continuos\n",
        "\n",
        "\n",
        "from sklearn.linear_model import LinearRegression, Ridge, Lasso\n",
        "from sklearn.svm import LinearSVR, SVR\n",
        "from sklearn.neighbors import KNeighborsRegressor\n",
        "from sklearn.neural_network import MLPRegressor\n",
        "from sklearn.model_selection import GridSearchCV\n",
        "from sklearn.tree import DecisionTreeRegressor\n",
        "from sklearn.ensemble import RandomForestRegressor\n",
        "from sklearn.ensemble import GradientBoostingRegressor\n"
      ],
      "execution_count": null,
      "outputs": []
    },
    {
      "cell_type": "code",
      "metadata": {
        "colab": {
          "base_uri": "https://localhost:8080/"
        },
        "id": "BTw2AUGNl94B",
        "outputId": "2dace1ed-df66-452d-d55d-b65c334d90b6"
      },
      "source": [
        "from google.colab import drive\n",
        "drive.mount('/content/drive')"
      ],
      "execution_count": null,
      "outputs": [
        {
          "output_type": "stream",
          "text": [
            "Drive already mounted at /content/drive; to attempt to forcibly remount, call drive.mount(\"/content/drive\", force_remount=True).\n"
          ],
          "name": "stdout"
        }
      ]
    },
    {
      "cell_type": "markdown",
      "metadata": {
        "id": "p6zVcLPXrLM-"
      },
      "source": [
        "# Ler os dados"
      ]
    },
    {
      "cell_type": "markdown",
      "metadata": {
        "id": "vJLsEbPQrScE"
      },
      "source": [
        "Os dados correspondente da base de dados \"ouro2.csv\". "
      ]
    },
    {
      "cell_type": "code",
      "metadata": {
        "colab": {
          "base_uri": "https://localhost:8080/",
          "height": 362
        },
        "id": "EriooaRmmEBe",
        "outputId": "a80355f3-6bd2-43df-b676-bb0674f950e6"
      },
      "source": [
        "dataFile = \"/content/drive/My Drive/Supervised Learning/ouro2.csv\"\n",
        "df = pd.read_csv(dataFile, sep=',') \n",
        "df = df[::-1]\n",
        "date = df['Data'].to_numpy()\n",
        "df = df.drop(['Data'], axis=1) #Eliminar a coluna Data\n",
        "pd.concat([df.head(), df.tail()])\n"
      ],
      "execution_count": null,
      "outputs": [
        {
          "output_type": "execute_result",
          "data": {
            "text/html": [
              "<div>\n",
              "<style scoped>\n",
              "    .dataframe tbody tr th:only-of-type {\n",
              "        vertical-align: middle;\n",
              "    }\n",
              "\n",
              "    .dataframe tbody tr th {\n",
              "        vertical-align: top;\n",
              "    }\n",
              "\n",
              "    .dataframe thead th {\n",
              "        text-align: right;\n",
              "    }\n",
              "</style>\n",
              "<table border=\"1\" class=\"dataframe\">\n",
              "  <thead>\n",
              "    <tr style=\"text-align: right;\">\n",
              "      <th></th>\n",
              "      <th>Valor</th>\n",
              "    </tr>\n",
              "  </thead>\n",
              "  <tbody>\n",
              "    <tr>\n",
              "      <th>1095</th>\n",
              "      <td>282.7</td>\n",
              "    </tr>\n",
              "    <tr>\n",
              "      <th>1094</th>\n",
              "      <td>290.1</td>\n",
              "    </tr>\n",
              "    <tr>\n",
              "      <th>1093</th>\n",
              "      <td>283.2</td>\n",
              "    </tr>\n",
              "    <tr>\n",
              "      <th>1092</th>\n",
              "      <td>281.1</td>\n",
              "    </tr>\n",
              "    <tr>\n",
              "      <th>1091</th>\n",
              "      <td>280.1</td>\n",
              "    </tr>\n",
              "    <tr>\n",
              "      <th>4</th>\n",
              "      <td>1878.9</td>\n",
              "    </tr>\n",
              "    <tr>\n",
              "      <th>3</th>\n",
              "      <td>1905.3</td>\n",
              "    </tr>\n",
              "    <tr>\n",
              "      <th>2</th>\n",
              "      <td>1892.0</td>\n",
              "    </tr>\n",
              "    <tr>\n",
              "      <th>1</th>\n",
              "      <td>1879.6</td>\n",
              "    </tr>\n",
              "    <tr>\n",
              "      <th>0</th>\n",
              "      <td>1868.0</td>\n",
              "    </tr>\n",
              "  </tbody>\n",
              "</table>\n",
              "</div>"
            ],
            "text/plain": [
              "       Valor\n",
              "1095   282.7\n",
              "1094   290.1\n",
              "1093   283.2\n",
              "1092   281.1\n",
              "1091   280.1\n",
              "4     1878.9\n",
              "3     1905.3\n",
              "2     1892.0\n",
              "1     1879.6\n",
              "0     1868.0"
            ]
          },
          "metadata": {
            "tags": []
          },
          "execution_count": 21
        }
      ]
    },
    {
      "cell_type": "markdown",
      "metadata": {
        "id": "l0c2tV57cc-r"
      },
      "source": [
        "## Separe o conjunto de medida"
      ]
    },
    {
      "cell_type": "code",
      "metadata": {
        "id": "u3EzB5l5b2ZC"
      },
      "source": [
        "#df = df.drop(['Data'], axis=1) #Eliminar a coluna Data\n",
        "data = df.to_numpy()\n",
        "scaler = MinMaxScaler(feature_range=(0, 1))\n",
        "data_norm = scaler.fit_transform(data)\n",
        "\n",
        "Xtest = data_norm[len(data_norm)-100:]\n",
        "Xtrain = data_norm[:len(data_norm)-100]"
      ],
      "execution_count": null,
      "outputs": []
    },
    {
      "cell_type": "code",
      "metadata": {
        "colab": {
          "base_uri": "https://localhost:8080/",
          "height": 265
        },
        "id": "Pv8KzB_2fmNk",
        "outputId": "2de27093-aa5a-49f0-8601-54c88ab3113c"
      },
      "source": [
        "plt.plot(data_norm)\n",
        "plt.show()"
      ],
      "execution_count": null,
      "outputs": [
        {
          "output_type": "display_data",
          "data": {
            "image/png": "[encoded data removed]",
            "text/plain": [
              "<Figure size 432x288 with 1 Axes>"
            ]
          },
          "metadata": {
            "tags": [],
            "needs_background": "light"
          }
        }
      ]
    },
    {
      "cell_type": "code",
      "metadata": {
        "colab": {
          "base_uri": "https://localhost:8080/"
        },
        "id": "cQq2GrcxD59L",
        "outputId": "3ada02b4-794a-452b-cbe0-0e6e2cf5950b"
      },
      "source": [
        "!pip install deap"
      ],
      "execution_count": null,
      "outputs": [
        {
          "output_type": "stream",
          "text": [
            "Collecting deap\n",
            "\u001b[?25l  Downloading https://files.pythonhosted.org/packages/99/d1/803c7a387d8a7e6866160b1541307f88d534da4291572fb32f69d2548afb/deap-1.3.1-cp37-cp37m-manylinux2010_x86_64.whl (157kB)\n",
            "\r\u001b[K     |██                              | 10kB 15.8MB/s eta 0:00:01\r\u001b[K     |████▏                           | 20kB 19.9MB/s eta 0:00:01\r\u001b[K     |██████▏                         | 30kB 10.3MB/s eta 0:00:01\r\u001b[K     |████████▎                       | 40kB 8.2MB/s eta 0:00:01\r\u001b[K     |██████████▍                     | 51kB 5.3MB/s eta 0:00:01\r\u001b[K     |████████████▍                   | 61kB 5.5MB/s eta 0:00:01\r\u001b[K     |██████████████▌                 | 71kB 6.2MB/s eta 0:00:01\r\u001b[K     |████████████████▋               | 81kB 6.1MB/s eta 0:00:01\r\u001b[K     |██████████████████▋             | 92kB 5.9MB/s eta 0:00:01\r\u001b[K     |████████████████████▊           | 102kB 6.4MB/s eta 0:00:01\r\u001b[K     |██████████████████████▉         | 112kB 6.4MB/s eta 0:00:01\r\u001b[K     |████████████████████████▉       | 122kB 6.4MB/s eta 0:00:01\r\u001b[K     |███████████████████████████     | 133kB 6.4MB/s eta 0:00:01\r\u001b[K     |█████████████████████████████   | 143kB 6.4MB/s eta 0:00:01\r\u001b[K     |███████████████████████████████ | 153kB 6.4MB/s eta 0:00:01\r\u001b[K     |████████████████████████████████| 163kB 6.4MB/s \n",
            "\u001b[?25hRequirement already satisfied: numpy in /usr/local/lib/python3.7/dist-packages (from deap) (1.19.5)\n",
            "Installing collected packages: deap\n",
            "Successfully installed deap-1.3.1\n"
          ],
          "name": "stdout"
        }
      ]
    },
    {
      "cell_type": "code",
      "metadata": {
        "id": "L-JLu2dtz_DV",
        "colab": {
          "base_uri": "https://localhost:8080/",
          "height": 165
        },
        "outputId": "b353e129-2134-4a3f-e355-657cd62a5cdb"
      },
      "source": [
        "import random\n",
        "import operator\n",
        "\n",
        "import numpy\n",
        "\n",
        "from deap import algorithms\n",
        "from deap import base\n",
        "from deap import creator\n",
        "from deap import tools\n",
        "from deap import gp\n",
        "\n",
        "\n",
        "def if_then_else(input, output1, output2):\n",
        "    return output1 if input else output2\n",
        "\n",
        "pset = gp.PrimitiveSetTyped(\"main\", [bool, float], float)\n",
        "pset.addPrimitive(operator.xor, [bool, bool], bool)\n",
        "pset.addPrimitive(operator.mul, [float, float], float)\n",
        "pset.addPrimitive(if_then_else, [bool, float, float], float)\n",
        "pset.addTerminal(3.0, float)\n",
        "pset.addTerminal(1, bool)\n",
        "\n",
        "pset.renameArguments(ARG0=\"x\")\n",
        "pset.renameArguments(ARG1=\"y\")\n",
        "\n",
        "pset = gp.PrimitiveSet(\"MAIN\", 1)\n",
        "pset.addPrimitive(operator.add, 2)\n",
        "pset.addPrimitive(operator.sub, 2)\n",
        "pset.addPrimitive(operator.mul, 2)\n",
        "pset.renameArguments(ARG0='x')\n",
        "\n",
        "creator.create(\"Individual\", gp.PrimitiveTree)\n",
        "\n",
        "toolbox = base.Toolbox()\n",
        "toolbox.register(\"expr\", gp.genHalfAndHalf, pset=pset, min_=1, max_=2)\n",
        "toolbox.register(\"individual\", tools.initIterate, creator.Individual, toolbox.expr)\n",
        "\n",
        "expr = toolbox.individual()\n",
        "nodes, edges, labels = gp.graph(expr)\n",
        "\n",
        "print(nodes, edges)\n",
        "print(labels)\n",
        "\n",
        "\n",
        "expr = gp.genFull(pset, min_=1, max_=3)\n",
        "tree = gp.PrimitiveTree(expr)\n",
        "nodes, edges, labels = gp.graph(expr)\n",
        "print(edges)\n",
        "print(labels)\n",
        "str(tree)"
      ],
      "execution_count": null,
      "outputs": [
        {
          "output_type": "stream",
          "text": [
            "[0, 1, 2, 3, 4, 5, 6] [(0, 1), (1, 2), (1, 3), (0, 4), (4, 5), (4, 6)]\n",
            "{0: 'sub', 1: 'add', 2: 'x', 3: 'x', 4: 'mul', 5: 'x', 6: 'x'}\n",
            "[(0, 1), (0, 2)]\n",
            "{0: 'sub', 1: 'x', 2: 'x'}\n"
          ],
          "name": "stdout"
        },
        {
          "output_type": "stream",
          "text": [
            "/usr/local/lib/python3.7/dist-packages/deap/creator.py:141: RuntimeWarning: A class named 'Individual' has already been created and it will be overwritten. Consider deleting previous creation of that class or rename it.\n",
            "  RuntimeWarning)\n"
          ],
          "name": "stderr"
        },
        {
          "output_type": "execute_result",
          "data": {
            "application/vnd.google.colaboratory.intrinsic+json": {
              "type": "string"
            },
            "text/plain": [
              "'sub(x, x)'"
            ]
          },
          "metadata": {
            "tags": []
          },
          "execution_count": 18
        }
      ]
    },
    {
      "cell_type": "code",
      "metadata": {
        "id": "OBwaBEbMGxDs"
      },
      "source": [
        "(x*x) + (x+x)"
      ],
      "execution_count": null,
      "outputs": []
    },
    {
      "cell_type": "markdown",
      "metadata": {
        "id": "tTOabzfZwWxh"
      },
      "source": [
        "# Sliding Windows\n",
        "\n"
      ]
    },
    {
      "cell_type": "code",
      "metadata": {
        "id": "aS5kNQfYwcu5"
      },
      "source": [
        "# fix random seed for reproducibility\n",
        "np.random.seed(7)\n",
        "\n",
        "# convert an array of values into a dataset matrix\n",
        "def create_dataset(dataset, look_back=1):\n",
        "\tdataX, dataY = [], []\n",
        "\tfor i in range(len(dataset)-look_back-1):\n",
        "\t\ta = dataset[i:(i+look_back), 0]\n",
        "\t\tdataX.append(a)\n",
        "\t\tdataY.append(dataset[i + look_back, 0])\n",
        "\treturn np.array(dataX), np.array(dataY)\n"
      ],
      "execution_count": null,
      "outputs": []
    },
    {
      "cell_type": "code",
      "metadata": {
        "colab": {
          "base_uri": "https://localhost:8080/",
          "height": 483
        },
        "id": "Hrd6T5Qdyovk",
        "outputId": "bad21fc5-4f75-44b9-9d59-cc2da424075f"
      },
      "source": [
        "XtestCV =  Xtrain[len(Xtrain)-100:]\n",
        "XtrainCV = Xtrain[:len(Xtrain)-100]\n",
        "\n",
        "#Hiperparameters\n",
        "lb = [1, 4, 5, 10, 15, 20, 25, 30]\n",
        "bestlb = 0\n",
        "RMSE = 9999\n",
        "RMSE_V = []\n",
        "ACCURACY_V = []\n",
        "modelo_est = LinearRegression()\n",
        "\n",
        "for lb_ in lb:\n",
        "  look_back = lb_\n",
        "  trainX, trainY = create_dataset(XtrainCV, look_back)\n",
        "  testX, testY = create_dataset(XtestCV, look_back)\n",
        "  model = modelo_est.fit(trainX, trainY)\n",
        "  \n",
        "  trainPredict = model.predict(trainX)\n",
        "  testPredict = model.predict(testX)\n",
        "        \n",
        "  trainPredict= [[i] for i in trainPredict]\n",
        "  testPredict = [[i] for i in testPredict]  \n",
        "        \n",
        "  # invert predictions\n",
        "  testPredict_ = scaler.inverse_transform(testPredict)\n",
        "  testY_ = scaler.inverse_transform([testY])\n",
        "        \n",
        "  testScore = math.sqrt(mean_squared_error(testY_[0], testPredict_[:,0]))\n",
        "  trainAccuracy = r2_score(testY_[0], testPredict_[:,0])\n",
        "  RMSE_V.append(testScore)\n",
        "  ACCURACY_V.append(trainAccuracy)\n",
        "  print(testScore, trainAccuracy)\n",
        "  if RMSE > testScore:\n",
        "    print(\"Best score: \", testScore)\n",
        "    RMSE = testScore\n",
        "    bestlb = lb_\n",
        "\n",
        "plt.plot(RMSE_V, color='b')\n",
        "#plt.plot(testPredict_[:,0], color='r', label='Prediction')"
      ],
      "execution_count": null,
      "outputs": [
        {
          "output_type": "stream",
          "text": [
            "18.040033717417476 0.8768971219891059\n",
            "Best score:  18.040033717417476\n",
            "17.849381665498065 0.8805365241024499\n",
            "Best score:  17.849381665498065\n",
            "17.805519366198965 0.8823403675576902\n",
            "Best score:  17.805519366198965\n",
            "18.02444016408755 0.8855395855212879\n",
            "18.257248699030512 0.888876231435512\n",
            "18.05218862973038 0.8958215040628632\n",
            "19.240413692668884 0.8756847577137932\n",
            "18.560738813253845 0.8749523738645313\n"
          ],
          "name": "stdout"
        },
        {
          "output_type": "execute_result",
          "data": {
            "text/plain": [
              "[<matplotlib.lines.Line2D at 0x7f7c9d62e710>]"
            ]
          },
          "metadata": {
            "tags": []
          },
          "execution_count": 45
        },
        {
          "output_type": "display_data",
          "data": {
            "image/png": "[encoded data removed]",
            "text/plain": [
              "<Figure size 432x288 with 1 Axes>"
            ]
          },
          "metadata": {
            "tags": [],
            "needs_background": "light"
          }
        }
      ]
    },
    {
      "cell_type": "code",
      "metadata": {
        "colab": {
          "base_uri": "https://localhost:8080/",
          "height": 422
        },
        "id": "K3P94b85vd4_",
        "outputId": "ee66725d-dd98-4a8e-fbee-5ab40144d5c2"
      },
      "source": [
        "look_back = bestlb\n",
        "trainX, trainY = create_dataset(Xtrain, look_back)\n",
        "testX, testY = create_dataset(Xtest, look_back)\n",
        "\n",
        "modelo_est = LinearRegression()\n",
        "model = modelo_est.fit(trainX, trainY)\n",
        "trainPredict = model.predict(trainX)\n",
        "testPredict = model.predict(testX)\n",
        "\n",
        "trainPredict= [[i] for i in trainPredict]\n",
        "testPredict = [[i] for i in testPredict]\n",
        "\n",
        "# invert predictions\n",
        "trainPredict_ = scaler.inverse_transform(trainPredict)\n",
        "trainY_ = scaler.inverse_transform([trainY])\n",
        "testPredict_ = scaler.inverse_transform(testPredict)\n",
        "testY_ = scaler.inverse_transform([testY])\n",
        "\n",
        "# calculate root mean squared error\n",
        "print(\"lb: \", look_back)\n",
        "trainScore = math.sqrt(mean_squared_error(trainY_[0], trainPredict_[:,0]))\n",
        "print('Train Score: %.2f RMSE' % (trainScore))\n",
        "trainAccuracy = r2_score(trainY_[0], trainPredict_[:,0])\n",
        "print('Train Score: %.2f ACCURACY' % (trainAccuracy))\n",
        "testScore = math.sqrt(mean_squared_error(testY_[0], testPredict_[:,0]))\n",
        "print('Test Score: %.2f RMSE' % (testScore))\n",
        "testAccuracy = r2_score(testY_[0], testPredict_[:,0])\n",
        "print('Test Score: %.2f ACCURACY' % (testAccuracy))\n",
        "\n",
        "date1 = date[len(date)-len(testY_[0]):]\n",
        "len(date1)\n",
        "date1 = date1[0::10]\n",
        "len(date1)\n",
        "\n",
        "plt.plot(testY_[0], color='b', label='True')\n",
        "plt.plot(testPredict_[:,0], color='r', label='Prediction')\n",
        "plt.xticks([0, 10, 20, 30, 40, 50, 60, 70, 80, 90], date1, rotation='vertical')\n",
        "plt.legend()"
      ],
      "execution_count": null,
      "outputs": [
        {
          "output_type": "stream",
          "text": [
            "lb:  5\n",
            "Train Score: 25.08 RMSE\n",
            "Train Score: 1.00 ACCURACY\n",
            "Test Score: 44.94 RMSE\n",
            "Test Score: 0.91 ACCURACY\n"
          ],
          "name": "stdout"
        },
        {
          "output_type": "execute_result",
          "data": {
            "text/plain": [
              "<matplotlib.legend.Legend at 0x7f7c9daa1290>"
            ]
          },
          "metadata": {
            "tags": []
          },
          "execution_count": 43
        },
        {
          "output_type": "display_data",
          "data": {
            "image/png": "[encoded data removed]",
            "text/plain": [
              "<Figure size 432x288 with 1 Axes>"
            ]
          },
          "metadata": {
            "tags": [],
            "needs_background": "light"
          }
        }
      ]
    },
    {
      "cell_type": "code",
      "metadata": {
        "colab": {
          "base_uri": "https://localhost:8080/"
        },
        "id": "9M4UAJtDJPYS",
        "outputId": "bb817128-ec0a-49bf-872a-fc086e5787a2"
      },
      "source": [
        "date1 = date[len(date)-len(testY_[0]):]\n",
        "len(date1)\n",
        "date1 = date1[0::20]\n",
        "len(date1)"
      ],
      "execution_count": null,
      "outputs": [
        {
          "output_type": "execute_result",
          "data": {
            "text/plain": [
              "5"
            ]
          },
          "metadata": {
            "tags": []
          },
          "execution_count": 39
        }
      ]
    },
    {
      "cell_type": "markdown",
      "metadata": {
        "id": "K6h4p0WbUAYq"
      },
      "source": [
        "# Long Short-Term Memory Network"
      ]
    },
    {
      "cell_type": "code",
      "metadata": {
        "colab": {
          "base_uri": "https://localhost:8080/"
        },
        "id": "vlgMkneM0bCQ",
        "outputId": "f5121b17-2e75-4e28-b53e-4e45f72e3d30"
      },
      "source": [
        "\n",
        "# fit an LSTM network to training data\n",
        "def fit_lstm(X, Y, batchsize, nb_epoch, neurons, look_back):\n",
        "\tmodel = Sequential()\n",
        "\tmodel.add(LSTM(neurons, input_shape=(batchsize, look_back)))\n",
        "\tmodel.add(Dense(1))\n",
        "\tmodel.compile(loss='mean_squared_error', optimizer='adam')\n",
        "\tmodel.fit(X, Y, epochs=nb_epoch, batch_size=batchsize, verbose=0, shuffle=False)\n",
        "\treturn model\n",
        "\n",
        "look_back = 25\n",
        "trainX, trainY = create_dataset(Xtrain, look_back)\n",
        "testX, testY = create_dataset(Xtest, look_back)\n",
        "\n",
        "trainX = np.reshape(trainX, (trainX.shape[0], 1, trainX.shape[1]))\n",
        "testX = np.reshape(testX, (testX.shape[0], 1, testX.shape[1]))\n",
        "\n",
        "lstm_ = fit_lstm(trainX, trainY, 1, 100, 7, look_back)\n",
        "trainPredict = model.predict(trainX)\n",
        "testPredict = model.predict(testX)\n",
        "\n",
        "# invert predictions\n",
        "trainPredict_ = scaler.inverse_transform(trainPredict)\n",
        "trainY_ = scaler.inverse_transform([trainY])\n",
        "testPredict_ = scaler.inverse_transform(testPredict)\n",
        "testY_ = scaler.inverse_transform([testY])\n",
        "\n",
        "# calculate root mean squared error\n",
        "trainScore = math.sqrt(mean_squared_error(trainY_[0], trainPredict_[:,0]))\n",
        "print('Train Score: %.2f RMSE' % (trainScore))\n",
        "testScore = math.sqrt(mean_squared_error(testY_[0], testPredict_[:,0]))\n",
        "print('Test Score: %.2f RMSE' % (testScore))\n",
        "testAccuracy = r2_score(testY_[0], testPredict_[:,0])\n",
        "print('Test Score: %.2f ACCURACY' % (testAccuracy))\n"
      ],
      "execution_count": null,
      "outputs": [
        {
          "output_type": "stream",
          "text": [
            "Train Score: 60.69 RMSE\n",
            "Test Score: 147.89 RMSE\n",
            "Test Score: -0.55 ACCURACY\n"
          ],
          "name": "stdout"
        }
      ]
    },
    {
      "cell_type": "code",
      "metadata": {
        "colab": {
          "background_save": true,
          "base_uri": "https://localhost:8080/"
        },
        "id": "tVgC7WB8ilTy",
        "outputId": "db036bd8-71cf-4e0e-f207-6d81f903491d"
      },
      "source": [
        "# create and fit the LSTM network\n",
        "\n",
        "# reshape into X=t and Y=t+1\n",
        "XtestCV =  Xtrain[len(Xtrain)-100:]\n",
        "XtrainCV = Xtrain[:len(Xtrain)-100]\n",
        "\n",
        "#Hiperparameters\n",
        "lb = [4, 5, 10, 15, 20, 25, 30]\n",
        "neurons = [5, 7, 10, 12]\n",
        "epochs_ = [50, 75, 100]\n",
        "\n",
        "bestlb = 0\n",
        "bestNeurons = 0\n",
        "bestEpochs = 0\n",
        "RMSE = 9999\n",
        "\n",
        "for lb_ in lb:\n",
        "  for nr_ in neurons:\n",
        "    for ep in epochs_:\n",
        "      look_back = lb_\n",
        "      trainX, trainY = create_dataset(XtrainCV, look_back)\n",
        "      testX, testY = create_dataset(XtestCV, look_back)\n",
        "\n",
        "      trainX = np.reshape(trainX, (trainX.shape[0], 1, trainX.shape[1]))\n",
        "      testX = np.reshape(testX, (testX.shape[0], 1, testX.shape[1]))\n",
        "\n",
        "      model = Sequential()\n",
        "      model.add(LSTM(nr_, input_shape=(1, look_back)))\n",
        "      model.add(Dense(1))\n",
        "      model.compile(loss='mean_squared_error', optimizer='adam')\n",
        "      model.fit(trainX, trainY, epochs=ep, batch_size=1, verbose=0)\n",
        "\n",
        "      trainPredict = model.predict(trainX)\n",
        "      testPredict = model.predict(testX)\n",
        "\n",
        "      testScore = math.sqrt(mean_squared_error(testY_[0], testPredict_[:,0]))\n",
        "\n",
        "      if RMSE > testScore:\n",
        "        print(\"Best score: \", testScore)\n",
        "        RMSE = testScore\n",
        "        bestlb = lb_\n",
        "        bestNeurons = nr_\n",
        "        bestEpochs = ep\n",
        "\n",
        "look_back = bestlb\n",
        "trainX, trainY = create_dataset(Xtrain, look_back)\n",
        "testX, testY = create_dataset(Xtest, look_back)\n",
        "\n",
        "trainX = np.reshape(trainX, (trainX.shape[0], 1, trainX.shape[1]))\n",
        "testX = np.reshape(testX, (testX.shape[0], 1, testX.shape[1]))\n",
        "\n",
        "model = Sequential()\n",
        "model.add(LSTM(bestNeurons, input_shape=(1, look_back)))\n",
        "model.add(Dense(1))\n",
        "model.compile(loss='mean_squared_error', optimizer='adam')\n",
        "model.fit(trainX, trainY, epochs=bestEpochs, batch_size=1, verbose=0)\n",
        "\n",
        "trainPredict = model.predict(trainX)\n",
        "testPredict = model.predict(testX)\n",
        "\n",
        "\n",
        "# invert predictions\n",
        "trainPredict_ = scaler.inverse_transform(trainPredict)\n",
        "trainY_ = scaler.inverse_transform([trainY])\n",
        "testPredict_ = scaler.inverse_transform(testPredict)\n",
        "testY_ = scaler.inverse_transform([testY])\n",
        "\n",
        "# calculate root mean squared error\n",
        "trainScore = math.sqrt(mean_squared_error(trainY_[0], trainPredict_[:,0]))\n",
        "print('Train Score: %.2f RMSE' % (trainScore))\n",
        "testScore = math.sqrt(mean_squared_error(testY_[0], testPredict_[:,0]))\n",
        "print('Test Score: %.2f RMSE' % (testScore))\n",
        "testAccuracy = r2_score(testY_[0], testPredict_[:,0])\n",
        "print('Test Score: %.2f ACCURACY' % (testAccuracy))\n"
      ],
      "execution_count": null,
      "outputs": [
        {
          "output_type": "stream",
          "text": [
            "Best score:  97.60450974637078\n"
          ],
          "name": "stdout"
        }
      ]
    },
    {
      "cell_type": "code",
      "metadata": {
        "colab": {
          "base_uri": "https://localhost:8080/",
          "height": 283
        },
        "id": "88BFQuQbTSIf",
        "outputId": "5131e76c-2ce6-4382-e8cc-d95903cd732f"
      },
      "source": [
        "plt.plot(testY_[0], color='b', label='True')\n",
        "plt.plot(testPredict_[:,0], color='r', label='Prediction')\n",
        "plt.legend()"
      ],
      "execution_count": null,
      "outputs": [
        {
          "output_type": "execute_result",
          "data": {
            "text/plain": [
              "<matplotlib.legend.Legend at 0x7f7c5b355050>"
            ]
          },
          "metadata": {
            "tags": []
          },
          "execution_count": 85
        },
        {
          "output_type": "display_data",
          "data": {
            "image/png": "[encoded data removed]",
            "text/plain": [
              "<Figure size 432x288 with 1 Axes>"
            ]
          },
          "metadata": {
            "tags": []
          }
        }
      ]
    },
    {
      "cell_type": "code",
      "metadata": {
        "id": "fIFUMKjmpWZQ"
      },
      "source": [
        ""
      ],
      "execution_count": null,
      "outputs": []
    }
  ]
}
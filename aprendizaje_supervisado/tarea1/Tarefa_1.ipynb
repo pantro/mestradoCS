{
  "nbformat": 4,
  "nbformat_minor": 0,
  "metadata": {
    "colab": {
      "name": "Tarefa_1.ipynb",
      "provenance": [],
      "collapsed_sections": [],
      "toc_visible": true
    },
    "kernelspec": {
      "name": "python3",
      "display_name": "Python 3"
    },
    "language_info": {
      "name": "python"
    }
  },
  "cells": [
    {
      "cell_type": "markdown",
      "metadata": {
        "id": "B8EbWPO6jduA"
      },
      "source": [
        "\n",
        "**MO432A - Aprendizado supervisionado**\n",
        "\n",
        "**Equipe:**\n",
        "\n",
        "*   Maria Fernanda Tejada Begazo - RA 197488\n",
        "*   Jose Italo da Costa Silva - RA 265682\n",
        "*   Gian Franco Joel Condori Luna - RA 234826\n",
        "\n",
        "**Tarefa 01**\n",
        "\n",
        "A tarefa foi desenvolvida na linguagem python. Para isso utilizou-se notebooks jupyter no ambiente Google Colaboratory (Google Colab).\n"
      ]
    },
    {
      "cell_type": "code",
      "metadata": {
        "id": "yfigi5KLjrjH"
      },
      "source": [
        "#Primeiro faz-se os imports necessários:\n",
        "import numpy as np\n",
        "from numpy import linalg \n",
        "import matplotlib.pyplot as plt\n",
        "from sklearn.decomposition import PCA\n",
        "from sklearn.decomposition import TruncatedSVD\n",
        "from sklearn.preprocessing import StandardScaler\n",
        "from sklearn.linear_model import LinearRegression\n",
        "from sklearn.model_selection import ShuffleSplit\n",
        "from sklearn.metrics import mean_absolute_error\n",
        "from sklearn.metrics import mean_squared_error\n",
        "\n",
        "import pandas as pd\n",
        "import cv2\n",
        "import io"
      ],
      "execution_count": null,
      "outputs": []
    },
    {
      "cell_type": "code",
      "metadata": {
        "colab": {
          "base_uri": "https://localhost:8080/"
        },
        "id": "BTw2AUGNl94B",
        "outputId": "90c3b974-9a2c-49ea-c871-a63d8ef0dd85"
      },
      "source": [
        "from google.colab import drive\n",
        "drive.mount('/content/drive')"
      ],
      "execution_count": null,
      "outputs": [
        {
          "output_type": "stream",
          "text": [
            "Drive already mounted at /content/drive; to attempt to forcibly remount, call drive.mount(\"/content/drive\", force_remount=True).\n"
          ],
          "name": "stdout"
        }
      ]
    },
    {
      "cell_type": "markdown",
      "metadata": {
        "id": "p6zVcLPXrLM-"
      },
      "source": [
        "# Ler os dados"
      ]
    },
    {
      "cell_type": "markdown",
      "metadata": {
        "id": "vJLsEbPQrScE"
      },
      "source": [
        "Os dados correspondente da base de dados \"solar-flare.csv\". Os quais correspondem as columnas com os siguentes dados:\n",
        "\n",
        "0. Código da clase (Clase modificada de Zurich) (A,B,C,D,E,F,H)\n",
        "1. Código para o maior tamanho de spot (X,R,S,A,H,K)\n",
        "2. Código para distribuição de spot (X,O,I,C)\n",
        "3. Actividade (1 = reducido, 2 = inalterado)\n",
        "4. Evolução (1 = decair, 2 = sem crecimento, 3 = crecimento)\n",
        "5. Código de atividade de flares de 24 horas anteriores (1 = nada tão grande quanto um M1, 2 = um M1, 3 = mais atividade do que um M1)\n",
        "6. Historicamente complexo (1 = Sim, 2 = Não)\n",
        "7. A região tornou-se historicamente complexa nesta passagem pelo disco solar (1 = sim, 2 = não)\n",
        "8. Área (1 = pequena, 2 = larga)\n",
        "9. Área do maior ponto (1 = <=5, 2 = >5)\n",
        "\n",
        "De todos esses preditores, três classes de flares são previstas, as quais são representadas nas últimas três colunas.\n",
        "\n",
        "10. Produção de flares **classe C** por esta região nas 24 horas seguintes (flares comuns); Númerico\n",
        "11. Produção de flares **classe M** por esta região nas 24 horas seguintes (flares moderadas); Númerico\n",
        "12. Produção de flares **classe X** por esta região nas 24 horas seguintes (flares severos); Númerico"
      ]
    },
    {
      "cell_type": "code",
      "metadata": {
        "colab": {
          "base_uri": "https://localhost:8080/",
          "height": 348
        },
        "id": "EriooaRmmEBe",
        "outputId": "72933101-1c1e-424a-edc0-68a4080b4599"
      },
      "source": [
        "dataFile = \"/content/drive/My Drive/Supervised Learning/solar-flare.csv\"\n",
        "df = pd.read_csv(dataFile, sep=' ', header=None) \n",
        "\n",
        "pd.concat([df.head(), df.tail()])"
      ],
      "execution_count": null,
      "outputs": [
        {
          "output_type": "execute_result",
          "data": {
            "text/html": [
              "<div>\n",
              "<style scoped>\n",
              "    .dataframe tbody tr th:only-of-type {\n",
              "        vertical-align: middle;\n",
              "    }\n",
              "\n",
              "    .dataframe tbody tr th {\n",
              "        vertical-align: top;\n",
              "    }\n",
              "\n",
              "    .dataframe thead th {\n",
              "        text-align: right;\n",
              "    }\n",
              "</style>\n",
              "<table border=\"1\" class=\"dataframe\">\n",
              "  <thead>\n",
              "    <tr style=\"text-align: right;\">\n",
              "      <th></th>\n",
              "      <th>0</th>\n",
              "      <th>1</th>\n",
              "      <th>2</th>\n",
              "      <th>3</th>\n",
              "      <th>4</th>\n",
              "      <th>5</th>\n",
              "      <th>6</th>\n",
              "      <th>7</th>\n",
              "      <th>8</th>\n",
              "      <th>9</th>\n",
              "      <th>10</th>\n",
              "      <th>11</th>\n",
              "      <th>12</th>\n",
              "    </tr>\n",
              "  </thead>\n",
              "  <tbody>\n",
              "    <tr>\n",
              "      <th>0</th>\n",
              "      <td>H</td>\n",
              "      <td>A</td>\n",
              "      <td>X</td>\n",
              "      <td>1</td>\n",
              "      <td>3</td>\n",
              "      <td>1</td>\n",
              "      <td>1</td>\n",
              "      <td>1</td>\n",
              "      <td>1</td>\n",
              "      <td>1</td>\n",
              "      <td>0</td>\n",
              "      <td>0</td>\n",
              "      <td>0</td>\n",
              "    </tr>\n",
              "    <tr>\n",
              "      <th>1</th>\n",
              "      <td>D</td>\n",
              "      <td>R</td>\n",
              "      <td>O</td>\n",
              "      <td>1</td>\n",
              "      <td>3</td>\n",
              "      <td>1</td>\n",
              "      <td>1</td>\n",
              "      <td>2</td>\n",
              "      <td>1</td>\n",
              "      <td>1</td>\n",
              "      <td>0</td>\n",
              "      <td>0</td>\n",
              "      <td>0</td>\n",
              "    </tr>\n",
              "    <tr>\n",
              "      <th>2</th>\n",
              "      <td>C</td>\n",
              "      <td>S</td>\n",
              "      <td>O</td>\n",
              "      <td>1</td>\n",
              "      <td>3</td>\n",
              "      <td>1</td>\n",
              "      <td>1</td>\n",
              "      <td>2</td>\n",
              "      <td>1</td>\n",
              "      <td>1</td>\n",
              "      <td>0</td>\n",
              "      <td>0</td>\n",
              "      <td>0</td>\n",
              "    </tr>\n",
              "    <tr>\n",
              "      <th>3</th>\n",
              "      <td>H</td>\n",
              "      <td>R</td>\n",
              "      <td>X</td>\n",
              "      <td>1</td>\n",
              "      <td>2</td>\n",
              "      <td>1</td>\n",
              "      <td>1</td>\n",
              "      <td>1</td>\n",
              "      <td>1</td>\n",
              "      <td>1</td>\n",
              "      <td>0</td>\n",
              "      <td>0</td>\n",
              "      <td>0</td>\n",
              "    </tr>\n",
              "    <tr>\n",
              "      <th>4</th>\n",
              "      <td>H</td>\n",
              "      <td>S</td>\n",
              "      <td>X</td>\n",
              "      <td>1</td>\n",
              "      <td>1</td>\n",
              "      <td>1</td>\n",
              "      <td>1</td>\n",
              "      <td>2</td>\n",
              "      <td>1</td>\n",
              "      <td>1</td>\n",
              "      <td>0</td>\n",
              "      <td>0</td>\n",
              "      <td>0</td>\n",
              "    </tr>\n",
              "    <tr>\n",
              "      <th>1061</th>\n",
              "      <td>H</td>\n",
              "      <td>S</td>\n",
              "      <td>X</td>\n",
              "      <td>1</td>\n",
              "      <td>2</td>\n",
              "      <td>1</td>\n",
              "      <td>1</td>\n",
              "      <td>1</td>\n",
              "      <td>1</td>\n",
              "      <td>1</td>\n",
              "      <td>0</td>\n",
              "      <td>0</td>\n",
              "      <td>0</td>\n",
              "    </tr>\n",
              "    <tr>\n",
              "      <th>1062</th>\n",
              "      <td>H</td>\n",
              "      <td>S</td>\n",
              "      <td>X</td>\n",
              "      <td>2</td>\n",
              "      <td>2</td>\n",
              "      <td>1</td>\n",
              "      <td>1</td>\n",
              "      <td>2</td>\n",
              "      <td>1</td>\n",
              "      <td>1</td>\n",
              "      <td>0</td>\n",
              "      <td>0</td>\n",
              "      <td>0</td>\n",
              "    </tr>\n",
              "    <tr>\n",
              "      <th>1063</th>\n",
              "      <td>C</td>\n",
              "      <td>S</td>\n",
              "      <td>O</td>\n",
              "      <td>1</td>\n",
              "      <td>2</td>\n",
              "      <td>1</td>\n",
              "      <td>2</td>\n",
              "      <td>2</td>\n",
              "      <td>1</td>\n",
              "      <td>1</td>\n",
              "      <td>0</td>\n",
              "      <td>0</td>\n",
              "      <td>0</td>\n",
              "    </tr>\n",
              "    <tr>\n",
              "      <th>1064</th>\n",
              "      <td>H</td>\n",
              "      <td>R</td>\n",
              "      <td>X</td>\n",
              "      <td>1</td>\n",
              "      <td>2</td>\n",
              "      <td>1</td>\n",
              "      <td>1</td>\n",
              "      <td>2</td>\n",
              "      <td>1</td>\n",
              "      <td>1</td>\n",
              "      <td>0</td>\n",
              "      <td>0</td>\n",
              "      <td>0</td>\n",
              "    </tr>\n",
              "    <tr>\n",
              "      <th>1065</th>\n",
              "      <td>B</td>\n",
              "      <td>X</td>\n",
              "      <td>O</td>\n",
              "      <td>1</td>\n",
              "      <td>1</td>\n",
              "      <td>1</td>\n",
              "      <td>1</td>\n",
              "      <td>2</td>\n",
              "      <td>1</td>\n",
              "      <td>1</td>\n",
              "      <td>0</td>\n",
              "      <td>0</td>\n",
              "      <td>0</td>\n",
              "    </tr>\n",
              "  </tbody>\n",
              "</table>\n",
              "</div>"
            ],
            "text/plain": [
              "     0  1  2   3   4   5   6   7   8   9   10  11  12\n",
              "0     H  A  X   1   3   1   1   1   1   1   0   0   0\n",
              "1     D  R  O   1   3   1   1   2   1   1   0   0   0\n",
              "2     C  S  O   1   3   1   1   2   1   1   0   0   0\n",
              "3     H  R  X   1   2   1   1   1   1   1   0   0   0\n",
              "4     H  S  X   1   1   1   1   2   1   1   0   0   0\n",
              "1061  H  S  X   1   2   1   1   1   1   1   0   0   0\n",
              "1062  H  S  X   2   2   1   1   2   1   1   0   0   0\n",
              "1063  C  S  O   1   2   1   2   2   1   1   0   0   0\n",
              "1064  H  R  X   1   2   1   1   2   1   1   0   0   0\n",
              "1065  B  X  O   1   1   1   1   2   1   1   0   0   0"
            ]
          },
          "metadata": {
            "tags": []
          },
          "execution_count": 152
        }
      ]
    },
    {
      "cell_type": "markdown",
      "metadata": {
        "id": "UiUtmVMvu5Xc"
      },
      "source": [
        "# Converta os atributos categóricos para numéricos"
      ]
    },
    {
      "cell_type": "markdown",
      "metadata": {
        "id": "Ud13fdu6vAQC"
      },
      "source": [
        "Nós vamos a usar a regressão lineal pra este trabalho, pelo que devemos converter as $3$ colunas que são atributos categoricos com o método de oneHotEnconder.\n"
      ]
    },
    {
      "cell_type": "code",
      "metadata": {
        "colab": {
          "base_uri": "https://localhost:8080/",
          "height": 348
        },
        "id": "wVQhSvP0wJCE",
        "outputId": "c5037375-6337-4149-ef09-a0f89978f242"
      },
      "source": [
        "df = pd.get_dummies(df)\n",
        "df_data2 = df.iloc[:,0:10]\n",
        "df_data1 = df.iloc[:,10:]\n",
        "df = pd.concat([df_data1, df_data2], axis=1)\n",
        "pd.concat([df.head(), df.tail()])"
      ],
      "execution_count": null,
      "outputs": [
        {
          "output_type": "execute_result",
          "data": {
            "text/html": [
              "<div>\n",
              "<style scoped>\n",
              "    .dataframe tbody tr th:only-of-type {\n",
              "        vertical-align: middle;\n",
              "    }\n",
              "\n",
              "    .dataframe tbody tr th {\n",
              "        vertical-align: top;\n",
              "    }\n",
              "\n",
              "    .dataframe thead th {\n",
              "        text-align: right;\n",
              "    }\n",
              "</style>\n",
              "<table border=\"1\" class=\"dataframe\">\n",
              "  <thead>\n",
              "    <tr style=\"text-align: right;\">\n",
              "      <th></th>\n",
              "      <th>0_B</th>\n",
              "      <th>0_C</th>\n",
              "      <th>0_D</th>\n",
              "      <th>0_E</th>\n",
              "      <th>0_F</th>\n",
              "      <th>0_H</th>\n",
              "      <th>1_A</th>\n",
              "      <th>1_H</th>\n",
              "      <th>1_K</th>\n",
              "      <th>1_R</th>\n",
              "      <th>1_S</th>\n",
              "      <th>1_X</th>\n",
              "      <th>2_C</th>\n",
              "      <th>2_I</th>\n",
              "      <th>2_O</th>\n",
              "      <th>2_X</th>\n",
              "      <th>3</th>\n",
              "      <th>4</th>\n",
              "      <th>5</th>\n",
              "      <th>6</th>\n",
              "      <th>7</th>\n",
              "      <th>8</th>\n",
              "      <th>9</th>\n",
              "      <th>10</th>\n",
              "      <th>11</th>\n",
              "      <th>12</th>\n",
              "    </tr>\n",
              "  </thead>\n",
              "  <tbody>\n",
              "    <tr>\n",
              "      <th>0</th>\n",
              "      <td>0</td>\n",
              "      <td>0</td>\n",
              "      <td>0</td>\n",
              "      <td>0</td>\n",
              "      <td>0</td>\n",
              "      <td>1</td>\n",
              "      <td>1</td>\n",
              "      <td>0</td>\n",
              "      <td>0</td>\n",
              "      <td>0</td>\n",
              "      <td>0</td>\n",
              "      <td>0</td>\n",
              "      <td>0</td>\n",
              "      <td>0</td>\n",
              "      <td>0</td>\n",
              "      <td>1</td>\n",
              "      <td>1</td>\n",
              "      <td>3</td>\n",
              "      <td>1</td>\n",
              "      <td>1</td>\n",
              "      <td>1</td>\n",
              "      <td>1</td>\n",
              "      <td>1</td>\n",
              "      <td>0</td>\n",
              "      <td>0</td>\n",
              "      <td>0</td>\n",
              "    </tr>\n",
              "    <tr>\n",
              "      <th>1</th>\n",
              "      <td>0</td>\n",
              "      <td>0</td>\n",
              "      <td>1</td>\n",
              "      <td>0</td>\n",
              "      <td>0</td>\n",
              "      <td>0</td>\n",
              "      <td>0</td>\n",
              "      <td>0</td>\n",
              "      <td>0</td>\n",
              "      <td>1</td>\n",
              "      <td>0</td>\n",
              "      <td>0</td>\n",
              "      <td>0</td>\n",
              "      <td>0</td>\n",
              "      <td>1</td>\n",
              "      <td>0</td>\n",
              "      <td>1</td>\n",
              "      <td>3</td>\n",
              "      <td>1</td>\n",
              "      <td>1</td>\n",
              "      <td>2</td>\n",
              "      <td>1</td>\n",
              "      <td>1</td>\n",
              "      <td>0</td>\n",
              "      <td>0</td>\n",
              "      <td>0</td>\n",
              "    </tr>\n",
              "    <tr>\n",
              "      <th>2</th>\n",
              "      <td>0</td>\n",
              "      <td>1</td>\n",
              "      <td>0</td>\n",
              "      <td>0</td>\n",
              "      <td>0</td>\n",
              "      <td>0</td>\n",
              "      <td>0</td>\n",
              "      <td>0</td>\n",
              "      <td>0</td>\n",
              "      <td>0</td>\n",
              "      <td>1</td>\n",
              "      <td>0</td>\n",
              "      <td>0</td>\n",
              "      <td>0</td>\n",
              "      <td>1</td>\n",
              "      <td>0</td>\n",
              "      <td>1</td>\n",
              "      <td>3</td>\n",
              "      <td>1</td>\n",
              "      <td>1</td>\n",
              "      <td>2</td>\n",
              "      <td>1</td>\n",
              "      <td>1</td>\n",
              "      <td>0</td>\n",
              "      <td>0</td>\n",
              "      <td>0</td>\n",
              "    </tr>\n",
              "    <tr>\n",
              "      <th>3</th>\n",
              "      <td>0</td>\n",
              "      <td>0</td>\n",
              "      <td>0</td>\n",
              "      <td>0</td>\n",
              "      <td>0</td>\n",
              "      <td>1</td>\n",
              "      <td>0</td>\n",
              "      <td>0</td>\n",
              "      <td>0</td>\n",
              "      <td>1</td>\n",
              "      <td>0</td>\n",
              "      <td>0</td>\n",
              "      <td>0</td>\n",
              "      <td>0</td>\n",
              "      <td>0</td>\n",
              "      <td>1</td>\n",
              "      <td>1</td>\n",
              "      <td>2</td>\n",
              "      <td>1</td>\n",
              "      <td>1</td>\n",
              "      <td>1</td>\n",
              "      <td>1</td>\n",
              "      <td>1</td>\n",
              "      <td>0</td>\n",
              "      <td>0</td>\n",
              "      <td>0</td>\n",
              "    </tr>\n",
              "    <tr>\n",
              "      <th>4</th>\n",
              "      <td>0</td>\n",
              "      <td>0</td>\n",
              "      <td>0</td>\n",
              "      <td>0</td>\n",
              "      <td>0</td>\n",
              "      <td>1</td>\n",
              "      <td>0</td>\n",
              "      <td>0</td>\n",
              "      <td>0</td>\n",
              "      <td>0</td>\n",
              "      <td>1</td>\n",
              "      <td>0</td>\n",
              "      <td>0</td>\n",
              "      <td>0</td>\n",
              "      <td>0</td>\n",
              "      <td>1</td>\n",
              "      <td>1</td>\n",
              "      <td>1</td>\n",
              "      <td>1</td>\n",
              "      <td>1</td>\n",
              "      <td>2</td>\n",
              "      <td>1</td>\n",
              "      <td>1</td>\n",
              "      <td>0</td>\n",
              "      <td>0</td>\n",
              "      <td>0</td>\n",
              "    </tr>\n",
              "    <tr>\n",
              "      <th>1061</th>\n",
              "      <td>0</td>\n",
              "      <td>0</td>\n",
              "      <td>0</td>\n",
              "      <td>0</td>\n",
              "      <td>0</td>\n",
              "      <td>1</td>\n",
              "      <td>0</td>\n",
              "      <td>0</td>\n",
              "      <td>0</td>\n",
              "      <td>0</td>\n",
              "      <td>1</td>\n",
              "      <td>0</td>\n",
              "      <td>0</td>\n",
              "      <td>0</td>\n",
              "      <td>0</td>\n",
              "      <td>1</td>\n",
              "      <td>1</td>\n",
              "      <td>2</td>\n",
              "      <td>1</td>\n",
              "      <td>1</td>\n",
              "      <td>1</td>\n",
              "      <td>1</td>\n",
              "      <td>1</td>\n",
              "      <td>0</td>\n",
              "      <td>0</td>\n",
              "      <td>0</td>\n",
              "    </tr>\n",
              "    <tr>\n",
              "      <th>1062</th>\n",
              "      <td>0</td>\n",
              "      <td>0</td>\n",
              "      <td>0</td>\n",
              "      <td>0</td>\n",
              "      <td>0</td>\n",
              "      <td>1</td>\n",
              "      <td>0</td>\n",
              "      <td>0</td>\n",
              "      <td>0</td>\n",
              "      <td>0</td>\n",
              "      <td>1</td>\n",
              "      <td>0</td>\n",
              "      <td>0</td>\n",
              "      <td>0</td>\n",
              "      <td>0</td>\n",
              "      <td>1</td>\n",
              "      <td>2</td>\n",
              "      <td>2</td>\n",
              "      <td>1</td>\n",
              "      <td>1</td>\n",
              "      <td>2</td>\n",
              "      <td>1</td>\n",
              "      <td>1</td>\n",
              "      <td>0</td>\n",
              "      <td>0</td>\n",
              "      <td>0</td>\n",
              "    </tr>\n",
              "    <tr>\n",
              "      <th>1063</th>\n",
              "      <td>0</td>\n",
              "      <td>1</td>\n",
              "      <td>0</td>\n",
              "      <td>0</td>\n",
              "      <td>0</td>\n",
              "      <td>0</td>\n",
              "      <td>0</td>\n",
              "      <td>0</td>\n",
              "      <td>0</td>\n",
              "      <td>0</td>\n",
              "      <td>1</td>\n",
              "      <td>0</td>\n",
              "      <td>0</td>\n",
              "      <td>0</td>\n",
              "      <td>1</td>\n",
              "      <td>0</td>\n",
              "      <td>1</td>\n",
              "      <td>2</td>\n",
              "      <td>1</td>\n",
              "      <td>2</td>\n",
              "      <td>2</td>\n",
              "      <td>1</td>\n",
              "      <td>1</td>\n",
              "      <td>0</td>\n",
              "      <td>0</td>\n",
              "      <td>0</td>\n",
              "    </tr>\n",
              "    <tr>\n",
              "      <th>1064</th>\n",
              "      <td>0</td>\n",
              "      <td>0</td>\n",
              "      <td>0</td>\n",
              "      <td>0</td>\n",
              "      <td>0</td>\n",
              "      <td>1</td>\n",
              "      <td>0</td>\n",
              "      <td>0</td>\n",
              "      <td>0</td>\n",
              "      <td>1</td>\n",
              "      <td>0</td>\n",
              "      <td>0</td>\n",
              "      <td>0</td>\n",
              "      <td>0</td>\n",
              "      <td>0</td>\n",
              "      <td>1</td>\n",
              "      <td>1</td>\n",
              "      <td>2</td>\n",
              "      <td>1</td>\n",
              "      <td>1</td>\n",
              "      <td>2</td>\n",
              "      <td>1</td>\n",
              "      <td>1</td>\n",
              "      <td>0</td>\n",
              "      <td>0</td>\n",
              "      <td>0</td>\n",
              "    </tr>\n",
              "    <tr>\n",
              "      <th>1065</th>\n",
              "      <td>1</td>\n",
              "      <td>0</td>\n",
              "      <td>0</td>\n",
              "      <td>0</td>\n",
              "      <td>0</td>\n",
              "      <td>0</td>\n",
              "      <td>0</td>\n",
              "      <td>0</td>\n",
              "      <td>0</td>\n",
              "      <td>0</td>\n",
              "      <td>0</td>\n",
              "      <td>1</td>\n",
              "      <td>0</td>\n",
              "      <td>0</td>\n",
              "      <td>1</td>\n",
              "      <td>0</td>\n",
              "      <td>1</td>\n",
              "      <td>1</td>\n",
              "      <td>1</td>\n",
              "      <td>1</td>\n",
              "      <td>2</td>\n",
              "      <td>1</td>\n",
              "      <td>1</td>\n",
              "      <td>0</td>\n",
              "      <td>0</td>\n",
              "      <td>0</td>\n",
              "    </tr>\n",
              "  </tbody>\n",
              "</table>\n",
              "</div>"
            ],
            "text/plain": [
              "      0_B  0_C  0_D  0_E  0_F  0_H  1_A  1_H  1_K  ...  4  5  6  7  8  9  10  11  12\n",
              "0       0    0    0    0    0    1    1    0    0  ...  3  1  1  1  1  1   0   0   0\n",
              "1       0    0    1    0    0    0    0    0    0  ...  3  1  1  2  1  1   0   0   0\n",
              "2       0    1    0    0    0    0    0    0    0  ...  3  1  1  2  1  1   0   0   0\n",
              "3       0    0    0    0    0    1    0    0    0  ...  2  1  1  1  1  1   0   0   0\n",
              "4       0    0    0    0    0    1    0    0    0  ...  1  1  1  2  1  1   0   0   0\n",
              "1061    0    0    0    0    0    1    0    0    0  ...  2  1  1  1  1  1   0   0   0\n",
              "1062    0    0    0    0    0    1    0    0    0  ...  2  1  1  2  1  1   0   0   0\n",
              "1063    0    1    0    0    0    0    0    0    0  ...  2  1  2  2  1  1   0   0   0\n",
              "1064    0    0    0    0    0    1    0    0    0  ...  2  1  1  2  1  1   0   0   0\n",
              "1065    1    0    0    0    0    0    0    0    0  ...  1  1  1  2  1  1   0   0   0\n",
              "\n",
              "[10 rows x 26 columns]"
            ]
          },
          "metadata": {
            "tags": []
          },
          "execution_count": 153
        }
      ]
    },
    {
      "cell_type": "markdown",
      "metadata": {
        "id": "2-X2LV6rrES5"
      },
      "source": [
        "Observação: No PDF não esta saindo o print de todas as colunas, devido a limitação da impresão da tabela. Mas se observa que as colunas originais só eram $13$ e com oneHotEncoder temos $26$ dimensões."
      ]
    },
    {
      "cell_type": "markdown",
      "metadata": {
        "id": "k39jX-Qfz9wC"
      },
      "source": [
        "# Centering e Scaling"
      ]
    },
    {
      "cell_type": "markdown",
      "metadata": {
        "id": "M4JAm4tOo5oQ"
      },
      "source": [
        "Faça o centering and standard scaling para todos os atributos de entrada (convertidos para numéricos)"
      ]
    },
    {
      "cell_type": "code",
      "metadata": {
        "id": "kxv5cqs3nqY2"
      },
      "source": [
        "data = df.to_numpy()\n",
        "data = df.to_numpy()\n",
        "X = data[:,0:len(data[0])-3]\n",
        "Y = data[:,len(data[0])-3:]"
      ],
      "execution_count": null,
      "outputs": []
    },
    {
      "cell_type": "code",
      "metadata": {
        "id": "ekq1lVspnrzF",
        "colab": {
          "base_uri": "https://localhost:8080/"
        },
        "outputId": "e30b0a2c-f5e8-4ee3-c5ec-01097aaec42a"
      },
      "source": [
        "scaler = StandardScaler()\n",
        "X_norm = scaler.fit_transform(X)\n",
        "X_norm"
      ],
      "execution_count": null,
      "outputs": [
        {
          "output_type": "execute_result",
          "data": {
            "text/plain": [
              "array([[-0.39994559, -0.49677321, -0.53758383, ..., -2.64859162,\n",
              "        -0.16120337,  0.        ],\n",
              "       [-0.39994559, -0.49677321,  1.860175  , ...,  0.37755915,\n",
              "        -0.16120337,  0.        ],\n",
              "       [-0.39994559,  2.01299098, -0.53758383, ...,  0.37755915,\n",
              "        -0.16120337,  0.        ],\n",
              "       ...,\n",
              "       [-0.39994559,  2.01299098, -0.53758383, ...,  0.37755915,\n",
              "        -0.16120337,  0.        ],\n",
              "       [-0.39994559, -0.49677321, -0.53758383, ...,  0.37755915,\n",
              "        -0.16120337,  0.        ],\n",
              "       [ 2.50034011, -0.49677321, -0.53758383, ...,  0.37755915,\n",
              "        -0.16120337,  0.        ]])"
            ]
          },
          "metadata": {
            "tags": []
          },
          "execution_count": 155
        }
      ]
    },
    {
      "cell_type": "markdown",
      "metadata": {
        "id": "TmeQFEjkNOMz"
      },
      "source": [
        "# PCA"
      ]
    },
    {
      "cell_type": "markdown",
      "metadata": {
        "id": "8vr_LqcYo9Gh"
      },
      "source": [
        "Reduza a dimensionalidade dos atributos de entrada usando PCA."
      ]
    },
    {
      "cell_type": "markdown",
      "metadata": {
        "id": "nEpXEkB4PNEy"
      },
      "source": [
        "## Quantas dimensões restarão se mantivermos 90\\% da variância dos dados?"
      ]
    },
    {
      "cell_type": "code",
      "metadata": {
        "colab": {
          "base_uri": "https://localhost:8080/",
          "height": 404
        },
        "id": "V7rkp-27PWDS",
        "outputId": "189e1172-8eb6-47c7-8300-b7664cbf95dc"
      },
      "source": [
        "pca = PCA().fit(X_norm)\n",
        "PC_values = np.arange(pca.n_components_) + 1\n",
        "plt.plot(PC_values, pca.explained_variance_ratio_.cumsum()*100, 'bo-', linewidth=2)\n",
        "plt.title('Porcentagens vs Componentes')\n",
        "plt.xlabel('Componente')\n",
        "plt.ylabel('Porcentagem de variância (acumulativa)')\n",
        "plt.grid(\"on\")\n",
        "plt.yticks(range(20, 101, 10))\n",
        "plt.xticks([1, 5, 10, 11, 12, 13, 14, 15, 20, 25])\n",
        "plt.show()"
      ],
      "execution_count": null,
      "outputs": [
        {
          "output_type": "display_data",
          "data": {
            "image/png": "[encoded data removed]",
            "text/plain": [
              "<Figure size 1080x432 with 1 Axes>"
            ]
          },
          "metadata": {
            "tags": [],
            "needs_background": "light"
          }
        }
      ]
    },
    {
      "cell_type": "markdown",
      "metadata": {
        "id": "vI02iykNR0zj"
      },
      "source": [
        "Pra ter uma variância de $90\\%$ preciso de $12$ componentes"
      ]
    },
    {
      "cell_type": "markdown",
      "metadata": {
        "id": "TQ74jxmCR-Jo"
      },
      "source": [
        "## Use o scree plot para determinar quantas dimensões deven ser mantidas"
      ]
    },
    {
      "cell_type": "code",
      "metadata": {
        "colab": {
          "base_uri": "https://localhost:8080/",
          "height": 404
        },
        "id": "4nCCVYtTOb7c",
        "outputId": "bd8aa7eb-2918-4edc-d255-6f8e9e38fffd"
      },
      "source": [
        "plt.plot(PC_values, pca.explained_variance_ratio_, 'ro-', linewidth=2)\n",
        "plt.title('Scree Plot')\n",
        "plt.xlabel('Componentes Principais')\n",
        "plt.ylabel('Proporção da variância explicada')\n",
        "plt.grid(\"on\")\n",
        "plt.show()"
      ],
      "execution_count": null,
      "outputs": [
        {
          "output_type": "display_data",
          "data": {
            "image/png": "[encoded data removed]",
            "text/plain": [
              "<Figure size 1080x432 with 1 Axes>"
            ]
          },
          "metadata": {
            "tags": [],
            "needs_background": "light"
          }
        }
      ]
    },
    {
      "cell_type": "markdown",
      "metadata": {
        "id": "pO5vW0S7SmxC"
      },
      "source": [
        "Estamos vendo na gráfica muitos pontos de corte pra dar um resultado verdadeiro, pelo que se pode fazer segum com o scree plot: $5, 10, 18$"
      ]
    },
    {
      "cell_type": "markdown",
      "metadata": {
        "id": "a6Hczx0vS7Q6"
      },
      "source": [
        "## Converta os dados usando o PCA com $90\\%$ de variância"
      ]
    },
    {
      "cell_type": "code",
      "metadata": {
        "id": "lmTOvrKgOu9S"
      },
      "source": [
        "pca = PCA(n_components=12)\n",
        "X_normPCA = pca.fit_transform(X_norm)"
      ],
      "execution_count": null,
      "outputs": []
    },
    {
      "cell_type": "code",
      "metadata": {
        "colab": {
          "base_uri": "https://localhost:8080/"
        },
        "id": "QXcm6g76TQ5I",
        "outputId": "574094b9-a8ed-4c3d-d41b-a58dc187f543"
      },
      "source": [
        "print(\"Dimensões de X: \", len(X_norm[0]))\n",
        "print(\"X com PCA (variança de 90): \", len(X_normPCA[0]))"
      ],
      "execution_count": null,
      "outputs": [
        {
          "output_type": "stream",
          "text": [
            "Dimensões de X:  23\n",
            "X com PCA (variança de 90):  12\n"
          ],
          "name": "stdout"
        }
      ]
    },
    {
      "cell_type": "markdown",
      "metadata": {
        "id": "K6h4p0WbUAYq"
      },
      "source": [
        "# Validação cruzada e regressão linear"
      ]
    },
    {
      "cell_type": "markdown",
      "metadata": {
        "id": "RB7-lNZZpGqZ"
      },
      "source": [
        "Fazendo 5 repetições de uma validação cruzada aleatória com split de 70/30 (70\\% treino 30\\% teste).\n",
        "\n",
        "Treine 3 regressões lineares, uma para cada um dos 3 atributos de saída.\n",
        "\n",
        "Treine no conjunto de treino e meça o RMSE e o MAE deste modelo treinado no conjunto de teste correspondente.\n",
        "\n",
        "Imprima o RMSE e o MAE no conjunto de testes de cada uma das 5 repetições. Imprima também a média do RMSE e do MAE."
      ]
    },
    {
      "cell_type": "code",
      "metadata": {
        "colab": {
          "base_uri": "https://localhost:8080/",
          "height": 435
        },
        "id": "7T8s3pumXNsK",
        "outputId": "8906b9cf-3368-494b-94e9-833c23e0a161"
      },
      "source": [
        "cv = ShuffleSplit(5,test_size=0.3,random_state=4321)\n",
        "nmae = [[], [], []]\n",
        "nrmse = [[], [], []]\n",
        "\n",
        "p = cv.split(X_normPCA, Y)\n",
        "\n",
        "for train_index, test_index in p:\n",
        "  Xtrain, Ytrain = X_normPCA[train_index], Y[train_index]\n",
        "  Xtest, Ytest = X_normPCA[train_index], Y[train_index]\n",
        "\n",
        "  md = LinearRegression().fit(Xtrain, Ytrain[:,0])\n",
        "  Ypredict = md.predict(Xtest)\n",
        "  nmae[0].append(mean_absolute_error(Ytest[:, 0], Ypredict)) #MAE\n",
        "  nrmse[0].append(mean_squared_error(Ytest[:, 0], Ypredict)) #RMSE\n",
        "\n",
        "  md = LinearRegression().fit(Xtrain, Ytrain[:,1])\n",
        "  Ypredict = md.predict(Xtest)\n",
        "  nmae[1].append(mean_absolute_error(Ytest[:, 1], Ypredict)) #MAE\n",
        "  nrmse[1].append(mean_squared_error(Ytest[:, 1], Ypredict)) #RMSE\n",
        "\n",
        "  md = LinearRegression().fit(Xtrain, Ytrain[:,2])\n",
        "  Ypredict = md.predict(Xtest)\n",
        "  nmae[2].append(mean_absolute_error(Ytest[:, 2], Ypredict)) #MAE\n",
        "  nrmse[2].append(mean_squared_error(Ytest[:, 2], Ypredict)) #RMSE\n",
        "\n",
        "AVR_MAE = np.round(np.sum(np.array(nmae), axis=1)/len(nmae[0]), 4)\n",
        "AVR_RMSE = np.round(np.sum(np.array(nrmse), axis=1)/len(nrmse[0]), 4)\n",
        "\n",
        "\n",
        "plt.rcParams[\"figure.figsize\"] = 15, 6\n",
        "fig, ax = plt.subplots(ncols=2)\n",
        "fig.suptitle('RMSE - MAE')\n",
        "ax[0].plot(range(5), np.array(nmae[0][:])*100, 'ro--', label=\"MAE Primer RL\")\n",
        "ax[0].plot(range(5), np.array(nrmse[0][:])*100, 'bo--', label=\"RMSE Primer RL\")\n",
        "ax[0].legend()\n",
        "ax[0].set_title(\"PRIMEIRA REGRESSÃO LINEAR\")\n",
        "ax[0].grid()\n",
        "\n",
        "\n",
        "ax[1].plot(range(5), np.array(nmae[1][:])*100, 'r*--', label=\"MAE Segunda RL\")\n",
        "ax[1].plot(range(5), np.array(nmae[2][:])*100, 'ro--', label=\"MAE Tercer RL\")\n",
        "ax[1].plot(range(5), np.array(nrmse[1][:])*100, 'b*--', label=\"RMSE Segunda RL\")\n",
        "ax[1].plot(range(5), np.array(nrmse[2][:])*100, 'bo--', label=\"RMSE Tercer RL\")\n",
        "ax[1].legend()\n",
        "ax[1].grid()\n",
        "ax[1].set_title(\"SEGUNDA E TERCEIRA REGRESSÃO LINEAR\")\n"
      ],
      "execution_count": null,
      "outputs": [
        {
          "output_type": "execute_result",
          "data": {
            "text/plain": [
              "Text(0.5, 1.0, 'SEGUNDA E TERCEIRA REGRESSÃO LINEAR')"
            ]
          },
          "metadata": {
            "tags": []
          },
          "execution_count": 160
        },
        {
          "output_type": "display_data",
          "data": {
            "image/png": "[encoded data removed]",
            "text/plain": [
              "<Figure size 1080x432 with 2 Axes>"
            ]
          },
          "metadata": {
            "tags": [],
            "needs_background": "light"
          }
        }
      ]
    },
    {
      "cell_type": "code",
      "metadata": {
        "id": "LfLSeY0Rl4I6"
      },
      "source": [
        "def func_print(vec1, vec2, avr, avr2, titles_):\n",
        "  for i in range(len(titles_)):\n",
        "    print(\"\\n\", titles_[i])\n",
        "    print(\"MAE: \", np.round(vec1[i][:], 4))\n",
        "    print(\"RMSE: \", np.round(vec2[i][:], 4))\n",
        "    print(\"AVERAGE MAE: \", avr[i] )\n",
        "    print(\"AVERAGE RMSE: \", avr2[i])"
      ],
      "execution_count": null,
      "outputs": []
    },
    {
      "cell_type": "code",
      "metadata": {
        "colab": {
          "base_uri": "https://localhost:8080/"
        },
        "id": "88BFQuQbTSIf",
        "outputId": "81aa477f-e700-43e5-aab9-c4ff25b15626"
      },
      "source": [
        "title = [\"PRIMEIRA REGRESSÃO LINEAR (CLASSE C)\", \"SEGUNDA REGRESSÃO LINEAR (CLASSE M)\", \"TERCEIRA REGRESSÃO LINEAR (CLASSE X)\"]\n",
        "func_print(nmae, nrmse, AVR_MAE, AVR_RMSE, title)\n",
        "\n",
        "title = [\"AVERAGE DAS 3 REGRESSÕES LINEAIS\"]\n",
        "AVR_MAE_T= np.round(np.sum(np.array(nmae), axis=0)/len(nmae), 4)\n",
        "AVR_RMSE_T= np.round(np.sum(np.array(nrmse), axis=0)/len(nmae), 4)\n",
        "AVR_MAE_TT= np.round(np.sum(np.array(AVR_MAE_T))/len(nmae[0]), 4)\n",
        "AVR_RMSE_TT = np.round(np.sum(np.array(AVR_RMSE_T))/len(nrmse[0]), 4)\n",
        "print(\"\\n\", title[0])\n",
        "print(\"MAE: \", np.round(AVR_MAE_T, 4))\n",
        "print(\"RMSE: \", np.round(AVR_RMSE_T, 4))\n",
        "print(\"AVERAGE MAE: \", AVR_MAE_TT)\n",
        "print(\"AVERAGE RMSE: \", AVR_RMSE_TT)\n"
      ],
      "execution_count": null,
      "outputs": [
        {
          "output_type": "stream",
          "text": [
            "\n",
            " PRIMEIRA REGRESSÃO LINEAR (CLASSE C)\n",
            "MAE:  [0.4324 0.4134 0.4151 0.4059 0.4197]\n",
            "RMSE:  [0.6301 0.5838 0.5719 0.5771 0.6058]\n",
            "AVERAGE MAE:  0.4173\n",
            "AVERAGE RMSE:  0.5937\n",
            "\n",
            " SEGUNDA REGRESSÃO LINEAR (CLASSE M)\n",
            "MAE:  [0.0962 0.102  0.0774 0.1019 0.0896]\n",
            "RMSE:  [0.0981 0.0882 0.0742 0.1014 0.0781]\n",
            "AVERAGE MAE:  0.0934\n",
            "AVERAGE RMSE:  0.088\n",
            "\n",
            " TERCEIRA REGRESSÃO LINEAR (CLASSE X)\n",
            "MAE:  [0.0175 0.0203 0.0111 0.02   0.0059]\n",
            "RMSE:  [0.0082 0.0088 0.0036 0.0087 0.0012]\n",
            "AVERAGE MAE:  0.0149\n",
            "AVERAGE RMSE:  0.0061\n",
            "\n",
            " AVERAGE DAS 3 REGRESSÕES LINEAIS\n",
            "MAE:  [0.182  0.1786 0.1679 0.1759 0.1717]\n",
            "RMSE:  [0.2455 0.227  0.2166 0.229  0.2284]\n",
            "AVERAGE MAE:  0.1752\n",
            "AVERAGE RMSE:  0.2293\n"
          ],
          "name": "stdout"
        }
      ]
    },
    {
      "cell_type": "code",
      "metadata": {
        "id": "fIFUMKjmpWZQ"
      },
      "source": [
        ""
      ],
      "execution_count": null,
      "outputs": []
    }
  ]
}